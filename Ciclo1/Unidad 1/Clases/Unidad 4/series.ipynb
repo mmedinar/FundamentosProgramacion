{
 "metadata": {
  "language_info": {
   "codemirror_mode": {
    "name": "ipython",
    "version": 3
   },
   "file_extension": ".py",
   "mimetype": "text/x-python",
   "name": "python",
   "nbconvert_exporter": "python",
   "pygments_lexer": "ipython3",
   "version": "3.8.5"
  },
  "orig_nbformat": 2,
  "kernelspec": {
   "name": "python385jvsc74a57bd0b3ba2566441a7c06988d0923437866b63cedc61552a5af99d1f4fb67d367b25f",
   "display_name": "Python 3.8.5 64-bit ('Anaconda3')"
  }
 },
 "nbformat": 4,
 "nbformat_minor": 2,
 "cells": [
  {
   "cell_type": "code",
   "execution_count": 162,
   "metadata": {},
   "outputs": [],
   "source": [
    "import numpy as np\n",
    "import pandas as pd"
   ]
  },
  {
   "cell_type": "code",
   "execution_count": 163,
   "metadata": {},
   "outputs": [
    {
     "output_type": "execute_result",
     "data": {
      "text/plain": [
       "['a', 'b', 'c', 'd']"
      ]
     },
     "metadata": {},
     "execution_count": 163
    }
   ],
   "source": [
    "letras = list('abcd')\n",
    "letras"
   ]
  },
  {
   "cell_type": "code",
   "execution_count": 164,
   "metadata": {},
   "outputs": [
    {
     "output_type": "execute_result",
     "data": {
      "text/plain": [
       "[10, 20, 30, 40]"
      ]
     },
     "metadata": {},
     "execution_count": 164
    }
   ],
   "source": [
    "numeros = list(range(10,50,10))\n",
    "numeros"
   ]
  },
  {
   "cell_type": "code",
   "execution_count": 165,
   "metadata": {},
   "outputs": [
    {
     "output_type": "stream",
     "name": "stdout",
     "text": [
      "[10 20 30 40]\n"
     ]
    }
   ],
   "source": [
    "arr = np.array(numeros)\n",
    "print(arr)"
   ]
  },
  {
   "cell_type": "code",
   "execution_count": 166,
   "metadata": {},
   "outputs": [
    {
     "output_type": "execute_result",
     "data": {
      "text/plain": [
       "{'a': 10, 'b': 20, 'c': 30, 'd': 40}"
      ]
     },
     "metadata": {},
     "execution_count": 166
    }
   ],
   "source": [
    "dicc = dict(zip(letras,numeros))\n",
    "dicc"
   ]
  },
  {
   "cell_type": "code",
   "execution_count": 167,
   "metadata": {},
   "outputs": [
    {
     "output_type": "execute_result",
     "data": {
      "text/plain": [
       "0    10\n",
       "1    20\n",
       "2    30\n",
       "3    40\n",
       "dtype: int64"
      ]
     },
     "metadata": {},
     "execution_count": 167
    }
   ],
   "source": [
    "pd.Series(numeros)"
   ]
  },
  {
   "cell_type": "code",
   "execution_count": 168,
   "metadata": {},
   "outputs": [
    {
     "output_type": "execute_result",
     "data": {
      "text/plain": [
       "a    10\n",
       "b    20\n",
       "c    30\n",
       "d    40\n",
       "dtype: int64"
      ]
     },
     "metadata": {},
     "execution_count": 168
    }
   ],
   "source": [
    "pd.Series(numeros, index=letras)"
   ]
  },
  {
   "cell_type": "code",
   "execution_count": 169,
   "metadata": {},
   "outputs": [
    {
     "output_type": "stream",
     "name": "stdout",
     "text": [
      "10\n10\n"
     ]
    }
   ],
   "source": [
    "series = pd.Series(numeros, index=letras)\n",
    "print(series[0])\n",
    "print(series['a'])\n"
   ]
  },
  {
   "source": [
    "for i in series :\n",
    "    print(i)\n"
   ],
   "cell_type": "code",
   "metadata": {},
   "execution_count": 170,
   "outputs": [
    {
     "output_type": "stream",
     "name": "stdout",
     "text": [
      "10\n20\n30\n40\n"
     ]
    }
   ]
  },
  {
   "cell_type": "code",
   "execution_count": 171,
   "metadata": {},
   "outputs": [
    {
     "output_type": "execute_result",
     "data": {
      "text/plain": [
       "array([[0. , 1. , 0.9, 0.1, 0.9],\n",
       "       [0.5, 0.7, 0.4, 0.4, 0.7],\n",
       "       [0.6, 1. , 0.1, 1. , 0.7]])"
      ]
     },
     "metadata": {},
     "execution_count": 171
    }
   ],
   "source": [
    "data = np.round(np.random.rand(3,5),1)\n",
    "data"
   ]
  },
  {
   "cell_type": "code",
   "execution_count": 172,
   "metadata": {},
   "outputs": [
    {
     "output_type": "execute_result",
     "data": {
      "text/plain": [
       "     A    B    C    D    E\n",
       "X  0.0  1.0  0.9  0.1  0.9\n",
       "Y  0.5  0.7  0.4  0.4  0.7\n",
       "Z  0.6  1.0  0.1  1.0  0.7"
      ],
      "text/html": "<div>\n<style scoped>\n    .dataframe tbody tr th:only-of-type {\n        vertical-align: middle;\n    }\n\n    .dataframe tbody tr th {\n        vertical-align: top;\n    }\n\n    .dataframe thead th {\n        text-align: right;\n    }\n</style>\n<table border=\"1\" class=\"dataframe\">\n  <thead>\n    <tr style=\"text-align: right;\">\n      <th></th>\n      <th>A</th>\n      <th>B</th>\n      <th>C</th>\n      <th>D</th>\n      <th>E</th>\n    </tr>\n  </thead>\n  <tbody>\n    <tr>\n      <th>X</th>\n      <td>0.0</td>\n      <td>1.0</td>\n      <td>0.9</td>\n      <td>0.1</td>\n      <td>0.9</td>\n    </tr>\n    <tr>\n      <th>Y</th>\n      <td>0.5</td>\n      <td>0.7</td>\n      <td>0.4</td>\n      <td>0.4</td>\n      <td>0.7</td>\n    </tr>\n    <tr>\n      <th>Z</th>\n      <td>0.6</td>\n      <td>1.0</td>\n      <td>0.1</td>\n      <td>1.0</td>\n      <td>0.7</td>\n    </tr>\n  </tbody>\n</table>\n</div>"
     },
     "metadata": {},
     "execution_count": 172
    }
   ],
   "source": [
    "filas = list('XYZ')\n",
    "columnas = list('ABCDE')\n",
    "df = pd.DataFrame(data, filas, columnas)\n",
    "df"
   ]
  },
  {
   "cell_type": "code",
   "execution_count": 173,
   "metadata": {},
   "outputs": [
    {
     "output_type": "execute_result",
     "data": {
      "text/plain": [
       "X    0.0\n",
       "Y    0.5\n",
       "Z    0.6\n",
       "Name: A, dtype: float64"
      ]
     },
     "metadata": {},
     "execution_count": 173
    }
   ],
   "source": [
    "df['A']"
   ]
  },
  {
   "cell_type": "code",
   "execution_count": 174,
   "metadata": {},
   "outputs": [
    {
     "output_type": "execute_result",
     "data": {
      "text/plain": [
       "     A    E\n",
       "X  0.0  0.9\n",
       "Y  0.5  0.7\n",
       "Z  0.6  0.7"
      ],
      "text/html": "<div>\n<style scoped>\n    .dataframe tbody tr th:only-of-type {\n        vertical-align: middle;\n    }\n\n    .dataframe tbody tr th {\n        vertical-align: top;\n    }\n\n    .dataframe thead th {\n        text-align: right;\n    }\n</style>\n<table border=\"1\" class=\"dataframe\">\n  <thead>\n    <tr style=\"text-align: right;\">\n      <th></th>\n      <th>A</th>\n      <th>E</th>\n    </tr>\n  </thead>\n  <tbody>\n    <tr>\n      <th>X</th>\n      <td>0.0</td>\n      <td>0.9</td>\n    </tr>\n    <tr>\n      <th>Y</th>\n      <td>0.5</td>\n      <td>0.7</td>\n    </tr>\n    <tr>\n      <th>Z</th>\n      <td>0.6</td>\n      <td>0.7</td>\n    </tr>\n  </tbody>\n</table>\n</div>"
     },
     "metadata": {},
     "execution_count": 174
    }
   ],
   "source": [
    "df[['A','E']]"
   ]
  },
  {
   "cell_type": "code",
   "execution_count": 175,
   "metadata": {},
   "outputs": [
    {
     "output_type": "execute_result",
     "data": {
      "text/plain": [
       "     A    B    C    D    E  A+B\n",
       "X  0.0  1.0  0.9  0.1  0.9  1.0\n",
       "Y  0.5  0.7  0.4  0.4  0.7  1.2\n",
       "Z  0.6  1.0  0.1  1.0  0.7  1.6"
      ],
      "text/html": "<div>\n<style scoped>\n    .dataframe tbody tr th:only-of-type {\n        vertical-align: middle;\n    }\n\n    .dataframe tbody tr th {\n        vertical-align: top;\n    }\n\n    .dataframe thead th {\n        text-align: right;\n    }\n</style>\n<table border=\"1\" class=\"dataframe\">\n  <thead>\n    <tr style=\"text-align: right;\">\n      <th></th>\n      <th>A</th>\n      <th>B</th>\n      <th>C</th>\n      <th>D</th>\n      <th>E</th>\n      <th>A+B</th>\n    </tr>\n  </thead>\n  <tbody>\n    <tr>\n      <th>X</th>\n      <td>0.0</td>\n      <td>1.0</td>\n      <td>0.9</td>\n      <td>0.1</td>\n      <td>0.9</td>\n      <td>1.0</td>\n    </tr>\n    <tr>\n      <th>Y</th>\n      <td>0.5</td>\n      <td>0.7</td>\n      <td>0.4</td>\n      <td>0.4</td>\n      <td>0.7</td>\n      <td>1.2</td>\n    </tr>\n    <tr>\n      <th>Z</th>\n      <td>0.6</td>\n      <td>1.0</td>\n      <td>0.1</td>\n      <td>1.0</td>\n      <td>0.7</td>\n      <td>1.6</td>\n    </tr>\n  </tbody>\n</table>\n</div>"
     },
     "metadata": {},
     "execution_count": 175
    }
   ],
   "source": [
    "df['A+B'] = df['A']+df['B']\n",
    "df"
   ]
  },
  {
   "cell_type": "code",
   "execution_count": 176,
   "metadata": {},
   "outputs": [
    {
     "output_type": "execute_result",
     "data": {
      "text/plain": [
       "     A    B    C    D    E\n",
       "X  0.0  1.0  0.9  0.1  0.9\n",
       "Y  0.5  0.7  0.4  0.4  0.7\n",
       "Z  0.6  1.0  0.1  1.0  0.7"
      ],
      "text/html": "<div>\n<style scoped>\n    .dataframe tbody tr th:only-of-type {\n        vertical-align: middle;\n    }\n\n    .dataframe tbody tr th {\n        vertical-align: top;\n    }\n\n    .dataframe thead th {\n        text-align: right;\n    }\n</style>\n<table border=\"1\" class=\"dataframe\">\n  <thead>\n    <tr style=\"text-align: right;\">\n      <th></th>\n      <th>A</th>\n      <th>B</th>\n      <th>C</th>\n      <th>D</th>\n      <th>E</th>\n    </tr>\n  </thead>\n  <tbody>\n    <tr>\n      <th>X</th>\n      <td>0.0</td>\n      <td>1.0</td>\n      <td>0.9</td>\n      <td>0.1</td>\n      <td>0.9</td>\n    </tr>\n    <tr>\n      <th>Y</th>\n      <td>0.5</td>\n      <td>0.7</td>\n      <td>0.4</td>\n      <td>0.4</td>\n      <td>0.7</td>\n    </tr>\n    <tr>\n      <th>Z</th>\n      <td>0.6</td>\n      <td>1.0</td>\n      <td>0.1</td>\n      <td>1.0</td>\n      <td>0.7</td>\n    </tr>\n  </tbody>\n</table>\n</div>"
     },
     "metadata": {},
     "execution_count": 176
    }
   ],
   "source": [
    "df = df.drop('A+B', axis=1)\n",
    "df"
   ]
  },
  {
   "cell_type": "code",
   "execution_count": 177,
   "metadata": {},
   "outputs": [
    {
     "output_type": "execute_result",
     "data": {
      "text/plain": [
       "     A    B    C    D    E\n",
       "X  0.0  1.0  0.9  0.1  0.9\n",
       "Y  0.5  0.7  0.4  0.4  0.7\n",
       "Z  0.6  1.0  0.1  1.0  0.7"
      ],
      "text/html": "<div>\n<style scoped>\n    .dataframe tbody tr th:only-of-type {\n        vertical-align: middle;\n    }\n\n    .dataframe tbody tr th {\n        vertical-align: top;\n    }\n\n    .dataframe thead th {\n        text-align: right;\n    }\n</style>\n<table border=\"1\" class=\"dataframe\">\n  <thead>\n    <tr style=\"text-align: right;\">\n      <th></th>\n      <th>A</th>\n      <th>B</th>\n      <th>C</th>\n      <th>D</th>\n      <th>E</th>\n    </tr>\n  </thead>\n  <tbody>\n    <tr>\n      <th>X</th>\n      <td>0.0</td>\n      <td>1.0</td>\n      <td>0.9</td>\n      <td>0.1</td>\n      <td>0.9</td>\n    </tr>\n    <tr>\n      <th>Y</th>\n      <td>0.5</td>\n      <td>0.7</td>\n      <td>0.4</td>\n      <td>0.4</td>\n      <td>0.7</td>\n    </tr>\n    <tr>\n      <th>Z</th>\n      <td>0.6</td>\n      <td>1.0</td>\n      <td>0.1</td>\n      <td>1.0</td>\n      <td>0.7</td>\n    </tr>\n  </tbody>\n</table>\n</div>"
     },
     "metadata": {},
     "execution_count": 177
    }
   ],
   "source": [
    "df"
   ]
  },
  {
   "cell_type": "code",
   "execution_count": 178,
   "metadata": {},
   "outputs": [
    {
     "output_type": "execute_result",
     "data": {
      "text/plain": [
       "X    0.9\n",
       "Y    0.4\n",
       "Z    0.1\n",
       "Name: C, dtype: float64"
      ]
     },
     "metadata": {},
     "execution_count": 178
    }
   ],
   "source": [
    "df['C']"
   ]
  },
  {
   "cell_type": "code",
   "execution_count": 179,
   "metadata": {},
   "outputs": [
    {
     "output_type": "execute_result",
     "data": {
      "text/plain": [
       "A    0.0\n",
       "B    1.0\n",
       "C    0.9\n",
       "D    0.1\n",
       "E    0.9\n",
       "Name: X, dtype: float64"
      ]
     },
     "metadata": {},
     "execution_count": 179
    }
   ],
   "source": [
    "df.loc['X']"
   ]
  },
  {
   "cell_type": "code",
   "execution_count": 180,
   "metadata": {},
   "outputs": [
    {
     "output_type": "execute_result",
     "data": {
      "text/plain": [
       "     A    B    C    D    E\n",
       "X  0.0  1.0  0.9  0.1  0.9\n",
       "Y  0.5  0.7  0.4  0.4  0.7\n",
       "Z  0.6  1.0  0.1  1.0  0.7"
      ],
      "text/html": "<div>\n<style scoped>\n    .dataframe tbody tr th:only-of-type {\n        vertical-align: middle;\n    }\n\n    .dataframe tbody tr th {\n        vertical-align: top;\n    }\n\n    .dataframe thead th {\n        text-align: right;\n    }\n</style>\n<table border=\"1\" class=\"dataframe\">\n  <thead>\n    <tr style=\"text-align: right;\">\n      <th></th>\n      <th>A</th>\n      <th>B</th>\n      <th>C</th>\n      <th>D</th>\n      <th>E</th>\n    </tr>\n  </thead>\n  <tbody>\n    <tr>\n      <th>X</th>\n      <td>0.0</td>\n      <td>1.0</td>\n      <td>0.9</td>\n      <td>0.1</td>\n      <td>0.9</td>\n    </tr>\n    <tr>\n      <th>Y</th>\n      <td>0.5</td>\n      <td>0.7</td>\n      <td>0.4</td>\n      <td>0.4</td>\n      <td>0.7</td>\n    </tr>\n    <tr>\n      <th>Z</th>\n      <td>0.6</td>\n      <td>1.0</td>\n      <td>0.1</td>\n      <td>1.0</td>\n      <td>0.7</td>\n    </tr>\n  </tbody>\n</table>\n</div>"
     },
     "metadata": {},
     "execution_count": 180
    }
   ],
   "source": [
    "df\n"
   ]
  },
  {
   "cell_type": "code",
   "execution_count": 181,
   "metadata": {},
   "outputs": [
    {
     "output_type": "execute_result",
     "data": {
      "text/plain": [
       "A    0.0\n",
       "B    1.0\n",
       "C    0.9\n",
       "D    0.1\n",
       "E    0.9\n",
       "Name: X, dtype: float64"
      ]
     },
     "metadata": {},
     "execution_count": 181
    }
   ],
   "source": [
    "df.iloc[0]"
   ]
  },
  {
   "cell_type": "code",
   "execution_count": 182,
   "metadata": {},
   "outputs": [
    {
     "output_type": "execute_result",
     "data": {
      "text/plain": [
       "(3, 5)"
      ]
     },
     "metadata": {},
     "execution_count": 182
    }
   ],
   "source": [
    "df.shape\n"
   ]
  },
  {
   "cell_type": "code",
   "execution_count": 183,
   "metadata": {},
   "outputs": [
    {
     "output_type": "execute_result",
     "data": {
      "text/plain": [
       "     A    B\n",
       "X  0.0  1.0\n",
       "Y  0.5  0.7\n",
       "Z  0.6  1.0"
      ],
      "text/html": "<div>\n<style scoped>\n    .dataframe tbody tr th:only-of-type {\n        vertical-align: middle;\n    }\n\n    .dataframe tbody tr th {\n        vertical-align: top;\n    }\n\n    .dataframe thead th {\n        text-align: right;\n    }\n</style>\n<table border=\"1\" class=\"dataframe\">\n  <thead>\n    <tr style=\"text-align: right;\">\n      <th></th>\n      <th>A</th>\n      <th>B</th>\n    </tr>\n  </thead>\n  <tbody>\n    <tr>\n      <th>X</th>\n      <td>0.0</td>\n      <td>1.0</td>\n    </tr>\n    <tr>\n      <th>Y</th>\n      <td>0.5</td>\n      <td>0.7</td>\n    </tr>\n    <tr>\n      <th>Z</th>\n      <td>0.6</td>\n      <td>1.0</td>\n    </tr>\n  </tbody>\n</table>\n</div>"
     },
     "metadata": {},
     "execution_count": 183
    }
   ],
   "source": [
    "df[['A','B']]"
   ]
  },
  {
   "cell_type": "code",
   "execution_count": 184,
   "metadata": {},
   "outputs": [
    {
     "output_type": "execute_result",
     "data": {
      "text/plain": [
       "     A    B\n",
       "X  0.0  1.0\n",
       "Y  0.5  0.7"
      ],
      "text/html": "<div>\n<style scoped>\n    .dataframe tbody tr th:only-of-type {\n        vertical-align: middle;\n    }\n\n    .dataframe tbody tr th {\n        vertical-align: top;\n    }\n\n    .dataframe thead th {\n        text-align: right;\n    }\n</style>\n<table border=\"1\" class=\"dataframe\">\n  <thead>\n    <tr style=\"text-align: right;\">\n      <th></th>\n      <th>A</th>\n      <th>B</th>\n    </tr>\n  </thead>\n  <tbody>\n    <tr>\n      <th>X</th>\n      <td>0.0</td>\n      <td>1.0</td>\n    </tr>\n    <tr>\n      <th>Y</th>\n      <td>0.5</td>\n      <td>0.7</td>\n    </tr>\n  </tbody>\n</table>\n</div>"
     },
     "metadata": {},
     "execution_count": 184
    }
   ],
   "source": [
    "df[['A','B']].loc[['X','Y']]"
   ]
  },
  {
   "cell_type": "code",
   "execution_count": 185,
   "metadata": {},
   "outputs": [
    {
     "output_type": "execute_result",
     "data": {
      "text/plain": [
       "       A     B      C      D     E\n",
       "X  False  True   True  False  True\n",
       "Y  False  True  False  False  True\n",
       "Z   True  True  False   True  True"
      ],
      "text/html": "<div>\n<style scoped>\n    .dataframe tbody tr th:only-of-type {\n        vertical-align: middle;\n    }\n\n    .dataframe tbody tr th {\n        vertical-align: top;\n    }\n\n    .dataframe thead th {\n        text-align: right;\n    }\n</style>\n<table border=\"1\" class=\"dataframe\">\n  <thead>\n    <tr style=\"text-align: right;\">\n      <th></th>\n      <th>A</th>\n      <th>B</th>\n      <th>C</th>\n      <th>D</th>\n      <th>E</th>\n    </tr>\n  </thead>\n  <tbody>\n    <tr>\n      <th>X</th>\n      <td>False</td>\n      <td>True</td>\n      <td>True</td>\n      <td>False</td>\n      <td>True</td>\n    </tr>\n    <tr>\n      <th>Y</th>\n      <td>False</td>\n      <td>True</td>\n      <td>False</td>\n      <td>False</td>\n      <td>True</td>\n    </tr>\n    <tr>\n      <th>Z</th>\n      <td>True</td>\n      <td>True</td>\n      <td>False</td>\n      <td>True</td>\n      <td>True</td>\n    </tr>\n  </tbody>\n</table>\n</div>"
     },
     "metadata": {},
     "execution_count": 185
    }
   ],
   "source": [
    "df > 0.5"
   ]
  },
  {
   "cell_type": "code",
   "execution_count": 186,
   "metadata": {},
   "outputs": [
    {
     "output_type": "execute_result",
     "data": {
      "text/plain": [
       "     A    B    C    D    E\n",
       "X  NaN  1.0  0.9  NaN  0.9\n",
       "Y  NaN  0.7  NaN  NaN  0.7\n",
       "Z  0.6  1.0  NaN  1.0  0.7"
      ],
      "text/html": "<div>\n<style scoped>\n    .dataframe tbody tr th:only-of-type {\n        vertical-align: middle;\n    }\n\n    .dataframe tbody tr th {\n        vertical-align: top;\n    }\n\n    .dataframe thead th {\n        text-align: right;\n    }\n</style>\n<table border=\"1\" class=\"dataframe\">\n  <thead>\n    <tr style=\"text-align: right;\">\n      <th></th>\n      <th>A</th>\n      <th>B</th>\n      <th>C</th>\n      <th>D</th>\n      <th>E</th>\n    </tr>\n  </thead>\n  <tbody>\n    <tr>\n      <th>X</th>\n      <td>NaN</td>\n      <td>1.0</td>\n      <td>0.9</td>\n      <td>NaN</td>\n      <td>0.9</td>\n    </tr>\n    <tr>\n      <th>Y</th>\n      <td>NaN</td>\n      <td>0.7</td>\n      <td>NaN</td>\n      <td>NaN</td>\n      <td>0.7</td>\n    </tr>\n    <tr>\n      <th>Z</th>\n      <td>0.6</td>\n      <td>1.0</td>\n      <td>NaN</td>\n      <td>1.0</td>\n      <td>0.7</td>\n    </tr>\n  </tbody>\n</table>\n</div>"
     },
     "metadata": {},
     "execution_count": 186
    }
   ],
   "source": [
    "df[df>0.5]"
   ]
  },
  {
   "cell_type": "code",
   "execution_count": 187,
   "metadata": {},
   "outputs": [
    {
     "output_type": "execute_result",
     "data": {
      "text/plain": [
       "X    False\n",
       "Y    False\n",
       "Z    False\n",
       "Name: A, dtype: bool"
      ]
     },
     "metadata": {},
     "execution_count": 187
    }
   ],
   "source": [
    "df['A']<0"
   ]
  },
  {
   "cell_type": "code",
   "execution_count": 188,
   "metadata": {},
   "outputs": [
    {
     "output_type": "execute_result",
     "data": {
      "text/plain": [
       "     A    B    C    D    E\n",
       "X  0.0  1.0  0.9  0.1  0.9\n",
       "Y  0.5  0.7  0.4  0.4  0.7\n",
       "Z  0.6  1.0  0.1  1.0  0.7"
      ],
      "text/html": "<div>\n<style scoped>\n    .dataframe tbody tr th:only-of-type {\n        vertical-align: middle;\n    }\n\n    .dataframe tbody tr th {\n        vertical-align: top;\n    }\n\n    .dataframe thead th {\n        text-align: right;\n    }\n</style>\n<table border=\"1\" class=\"dataframe\">\n  <thead>\n    <tr style=\"text-align: right;\">\n      <th></th>\n      <th>A</th>\n      <th>B</th>\n      <th>C</th>\n      <th>D</th>\n      <th>E</th>\n    </tr>\n  </thead>\n  <tbody>\n    <tr>\n      <th>X</th>\n      <td>0.0</td>\n      <td>1.0</td>\n      <td>0.9</td>\n      <td>0.1</td>\n      <td>0.9</td>\n    </tr>\n    <tr>\n      <th>Y</th>\n      <td>0.5</td>\n      <td>0.7</td>\n      <td>0.4</td>\n      <td>0.4</td>\n      <td>0.7</td>\n    </tr>\n    <tr>\n      <th>Z</th>\n      <td>0.6</td>\n      <td>1.0</td>\n      <td>0.1</td>\n      <td>1.0</td>\n      <td>0.7</td>\n    </tr>\n  </tbody>\n</table>\n</div>"
     },
     "metadata": {},
     "execution_count": 188
    }
   ],
   "source": [
    "df[df['A']<0.7]"
   ]
  },
  {
   "cell_type": "code",
   "execution_count": 189,
   "metadata": {},
   "outputs": [
    {
     "output_type": "execute_result",
     "data": {
      "text/plain": [
       "  index    A    B    C    D    E\n",
       "0     X  0.0  1.0  0.9  0.1  0.9\n",
       "1     Y  0.5  0.7  0.4  0.4  0.7\n",
       "2     Z  0.6  1.0  0.1  1.0  0.7"
      ],
      "text/html": "<div>\n<style scoped>\n    .dataframe tbody tr th:only-of-type {\n        vertical-align: middle;\n    }\n\n    .dataframe tbody tr th {\n        vertical-align: top;\n    }\n\n    .dataframe thead th {\n        text-align: right;\n    }\n</style>\n<table border=\"1\" class=\"dataframe\">\n  <thead>\n    <tr style=\"text-align: right;\">\n      <th></th>\n      <th>index</th>\n      <th>A</th>\n      <th>B</th>\n      <th>C</th>\n      <th>D</th>\n      <th>E</th>\n    </tr>\n  </thead>\n  <tbody>\n    <tr>\n      <th>0</th>\n      <td>X</td>\n      <td>0.0</td>\n      <td>1.0</td>\n      <td>0.9</td>\n      <td>0.1</td>\n      <td>0.9</td>\n    </tr>\n    <tr>\n      <th>1</th>\n      <td>Y</td>\n      <td>0.5</td>\n      <td>0.7</td>\n      <td>0.4</td>\n      <td>0.4</td>\n      <td>0.7</td>\n    </tr>\n    <tr>\n      <th>2</th>\n      <td>Z</td>\n      <td>0.6</td>\n      <td>1.0</td>\n      <td>0.1</td>\n      <td>1.0</td>\n      <td>0.7</td>\n    </tr>\n  </tbody>\n</table>\n</div>"
     },
     "metadata": {},
     "execution_count": 189
    }
   ],
   "source": [
    "df.reset_index()"
   ]
  },
  {
   "cell_type": "code",
   "execution_count": 190,
   "metadata": {},
   "outputs": [
    {
     "output_type": "execute_result",
     "data": {
      "text/plain": [
       "  index    A    B    C    D    E\n",
       "0     X  0.0  1.0  0.9  0.1  0.9\n",
       "1     Y  0.5  0.7  0.4  0.4  0.7\n",
       "2     Z  0.6  1.0  0.1  1.0  0.7"
      ],
      "text/html": "<div>\n<style scoped>\n    .dataframe tbody tr th:only-of-type {\n        vertical-align: middle;\n    }\n\n    .dataframe tbody tr th {\n        vertical-align: top;\n    }\n\n    .dataframe thead th {\n        text-align: right;\n    }\n</style>\n<table border=\"1\" class=\"dataframe\">\n  <thead>\n    <tr style=\"text-align: right;\">\n      <th></th>\n      <th>index</th>\n      <th>A</th>\n      <th>B</th>\n      <th>C</th>\n      <th>D</th>\n      <th>E</th>\n    </tr>\n  </thead>\n  <tbody>\n    <tr>\n      <th>0</th>\n      <td>X</td>\n      <td>0.0</td>\n      <td>1.0</td>\n      <td>0.9</td>\n      <td>0.1</td>\n      <td>0.9</td>\n    </tr>\n    <tr>\n      <th>1</th>\n      <td>Y</td>\n      <td>0.5</td>\n      <td>0.7</td>\n      <td>0.4</td>\n      <td>0.4</td>\n      <td>0.7</td>\n    </tr>\n    <tr>\n      <th>2</th>\n      <td>Z</td>\n      <td>0.6</td>\n      <td>1.0</td>\n      <td>0.1</td>\n      <td>1.0</td>\n      <td>0.7</td>\n    </tr>\n  </tbody>\n</table>\n</div>"
     },
     "metadata": {},
     "execution_count": 190
    }
   ],
   "source": [
    "df = df.reset_index()\n",
    "df"
   ]
  },
  {
   "cell_type": "code",
   "execution_count": 161,
   "metadata": {},
   "outputs": [
    {
     "output_type": "execute_result",
     "data": {
      "text/plain": [
       "     A    B    C    D    E\n",
       "X  0.2  0.2  1.0  0.5  0.7\n",
       "Y  0.6  0.5  0.1  0.4  0.6\n",
       "Z  0.8  0.7  0.7  0.8  0.6"
      ],
      "text/html": "<div>\n<style scoped>\n    .dataframe tbody tr th:only-of-type {\n        vertical-align: middle;\n    }\n\n    .dataframe tbody tr th {\n        vertical-align: top;\n    }\n\n    .dataframe thead th {\n        text-align: right;\n    }\n</style>\n<table border=\"1\" class=\"dataframe\">\n  <thead>\n    <tr style=\"text-align: right;\">\n      <th></th>\n      <th>A</th>\n      <th>B</th>\n      <th>C</th>\n      <th>D</th>\n      <th>E</th>\n    </tr>\n  </thead>\n  <tbody>\n    <tr>\n      <th>X</th>\n      <td>0.2</td>\n      <td>0.2</td>\n      <td>1.0</td>\n      <td>0.5</td>\n      <td>0.7</td>\n    </tr>\n    <tr>\n      <th>Y</th>\n      <td>0.6</td>\n      <td>0.5</td>\n      <td>0.1</td>\n      <td>0.4</td>\n      <td>0.6</td>\n    </tr>\n    <tr>\n      <th>Z</th>\n      <td>0.8</td>\n      <td>0.7</td>\n      <td>0.7</td>\n      <td>0.8</td>\n      <td>0.6</td>\n    </tr>\n  </tbody>\n</table>\n</div>"
     },
     "metadata": {},
     "execution_count": 161
    }
   ],
   "source": [
    "df"
   ]
  },
  {
   "cell_type": "code",
   "execution_count": 158,
   "metadata": {},
   "outputs": [
    {
     "output_type": "error",
     "ename": "KeyError",
     "evalue": "\"None of ['index'] are in the columns\"",
     "traceback": [
      "\u001b[1;31m---------------------------------------------------------------------------\u001b[0m",
      "\u001b[1;31mKeyError\u001b[0m                                  Traceback (most recent call last)",
      "\u001b[1;32m<ipython-input-158-d67b7e338ee0>\u001b[0m in \u001b[0;36m<module>\u001b[1;34m\u001b[0m\n\u001b[1;32m----> 1\u001b[1;33m \u001b[0mdf\u001b[0m \u001b[1;33m=\u001b[0m \u001b[0mdf\u001b[0m\u001b[1;33m.\u001b[0m\u001b[0mset_index\u001b[0m\u001b[1;33m(\u001b[0m\u001b[1;34m'index'\u001b[0m\u001b[1;33m,\u001b[0m \u001b[0minplace\u001b[0m\u001b[1;33m=\u001b[0m\u001b[1;32mTrue\u001b[0m\u001b[1;33m)\u001b[0m\u001b[1;33m\u001b[0m\u001b[1;33m\u001b[0m\u001b[0m\n\u001b[0m",
      "\u001b[1;32mC:\\ProgramData\\Anaconda3\\lib\\site-packages\\pandas\\core\\frame.py\u001b[0m in \u001b[0;36mset_index\u001b[1;34m(self, keys, drop, append, inplace, verify_integrity)\u001b[0m\n\u001b[0;32m   4549\u001b[0m \u001b[1;33m\u001b[0m\u001b[0m\n\u001b[0;32m   4550\u001b[0m         \u001b[1;32mif\u001b[0m \u001b[0mmissing\u001b[0m\u001b[1;33m:\u001b[0m\u001b[1;33m\u001b[0m\u001b[1;33m\u001b[0m\u001b[0m\n\u001b[1;32m-> 4551\u001b[1;33m             \u001b[1;32mraise\u001b[0m \u001b[0mKeyError\u001b[0m\u001b[1;33m(\u001b[0m\u001b[1;34mf\"None of {missing} are in the columns\"\u001b[0m\u001b[1;33m)\u001b[0m\u001b[1;33m\u001b[0m\u001b[1;33m\u001b[0m\u001b[0m\n\u001b[0m\u001b[0;32m   4552\u001b[0m \u001b[1;33m\u001b[0m\u001b[0m\n\u001b[0;32m   4553\u001b[0m         \u001b[1;32mif\u001b[0m \u001b[0minplace\u001b[0m\u001b[1;33m:\u001b[0m\u001b[1;33m\u001b[0m\u001b[1;33m\u001b[0m\u001b[0m\n",
      "\u001b[1;31mKeyError\u001b[0m: \"None of ['index'] are in the columns\""
     ]
    }
   ],
   "source": [
    "df = df.set_index('index', inplace=True)\n"
   ]
  },
  {
   "cell_type": "code",
   "execution_count": 107,
   "metadata": {},
   "outputs": [],
   "source": []
  },
  {
   "cell_type": "code",
   "execution_count": null,
   "metadata": {},
   "outputs": [],
   "source": []
  }
 ]
}