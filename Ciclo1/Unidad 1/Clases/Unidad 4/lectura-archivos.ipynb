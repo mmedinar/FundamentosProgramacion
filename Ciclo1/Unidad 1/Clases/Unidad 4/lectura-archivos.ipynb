{
 "metadata": {
  "language_info": {
   "codemirror_mode": {
    "name": "ipython",
    "version": 3
   },
   "file_extension": ".py",
   "mimetype": "text/x-python",
   "name": "python",
   "nbconvert_exporter": "python",
   "pygments_lexer": "ipython3",
   "version": "3.8.5"
  },
  "orig_nbformat": 2,
  "kernelspec": {
   "name": "python385jvsc74a57bd0b3ba2566441a7c06988d0923437866b63cedc61552a5af99d1f4fb67d367b25f",
   "display_name": "Python 3.8.5 64-bit ('Anaconda3')"
  }
 },
 "nbformat": 4,
 "nbformat_minor": 2,
 "cells": [
  {
   "cell_type": "code",
   "execution_count": 3,
   "metadata": {},
   "outputs": [],
   "source": [
    "import pandas as pd"
   ]
  },
  {
   "cell_type": "code",
   "execution_count": 4,
   "metadata": {},
   "outputs": [
    {
     "output_type": "execute_result",
     "data": {
      "text/plain": [
       "   python\n",
       "0    PyQt\n",
       "1    kivy\n",
       "2  Scrapy\n",
       "3   Numpy\n",
       "4  Pandas"
      ],
      "text/html": "<div>\n<style scoped>\n    .dataframe tbody tr th:only-of-type {\n        vertical-align: middle;\n    }\n\n    .dataframe tbody tr th {\n        vertical-align: top;\n    }\n\n    .dataframe thead th {\n        text-align: right;\n    }\n</style>\n<table border=\"1\" class=\"dataframe\">\n  <thead>\n    <tr style=\"text-align: right;\">\n      <th></th>\n      <th>python</th>\n    </tr>\n  </thead>\n  <tbody>\n    <tr>\n      <th>0</th>\n      <td>PyQt</td>\n    </tr>\n    <tr>\n      <th>1</th>\n      <td>kivy</td>\n    </tr>\n    <tr>\n      <th>2</th>\n      <td>Scrapy</td>\n    </tr>\n    <tr>\n      <th>3</th>\n      <td>Numpy</td>\n    </tr>\n    <tr>\n      <th>4</th>\n      <td>Pandas</td>\n    </tr>\n  </tbody>\n</table>\n</div>"
     },
     "metadata": {},
     "execution_count": 4
    }
   ],
   "source": [
    "pd.read_excel(\"pandasExcel.xlsx\")"
   ]
  },
  {
   "cell_type": "code",
   "execution_count": 10,
   "metadata": {},
   "outputs": [
    {
     "output_type": "execute_result",
     "data": {
      "text/plain": [
       "    Nombre  Apellido  Edad\n",
       "0     Juan     Nunoz    22\n",
       "1     Alex  Martinez    17\n",
       "2   Andres      Cruz    18\n",
       "3  Edinson   Viveros    35"
      ],
      "text/html": "<div>\n<style scoped>\n    .dataframe tbody tr th:only-of-type {\n        vertical-align: middle;\n    }\n\n    .dataframe tbody tr th {\n        vertical-align: top;\n    }\n\n    .dataframe thead th {\n        text-align: right;\n    }\n</style>\n<table border=\"1\" class=\"dataframe\">\n  <thead>\n    <tr style=\"text-align: right;\">\n      <th></th>\n      <th>Nombre</th>\n      <th>Apellido</th>\n      <th>Edad</th>\n    </tr>\n  </thead>\n  <tbody>\n    <tr>\n      <th>0</th>\n      <td>Juan</td>\n      <td>Nunoz</td>\n      <td>22</td>\n    </tr>\n    <tr>\n      <th>1</th>\n      <td>Alex</td>\n      <td>Martinez</td>\n      <td>17</td>\n    </tr>\n    <tr>\n      <th>2</th>\n      <td>Andres</td>\n      <td>Cruz</td>\n      <td>18</td>\n    </tr>\n    <tr>\n      <th>3</th>\n      <td>Edinson</td>\n      <td>Viveros</td>\n      <td>35</td>\n    </tr>\n  </tbody>\n</table>\n</div>"
     },
     "metadata": {},
     "execution_count": 10
    }
   ],
   "source": [
    "pd.read_csv(\"books.csv\",delimiter=\";\")\n"
   ]
  },
  {
   "cell_type": "code",
   "execution_count": 8,
   "metadata": {},
   "outputs": [
    {
     "output_type": "execute_result",
     "data": {
      "text/plain": [
       "   Nombre Apellidos  Edad        Trabajo\n",
       "0    Juan     Munoz    30  Bibliotecario\n",
       "1    Alex  Martinez    31       Florista\n",
       "2  Andres      Cruz    32      Enfermero\n",
       "3  Edison   Viveros    33       Conserje"
      ],
      "text/html": "<div>\n<style scoped>\n    .dataframe tbody tr th:only-of-type {\n        vertical-align: middle;\n    }\n\n    .dataframe tbody tr th {\n        vertical-align: top;\n    }\n\n    .dataframe thead th {\n        text-align: right;\n    }\n</style>\n<table border=\"1\" class=\"dataframe\">\n  <thead>\n    <tr style=\"text-align: right;\">\n      <th></th>\n      <th>Nombre</th>\n      <th>Apellidos</th>\n      <th>Edad</th>\n      <th>Trabajo</th>\n    </tr>\n  </thead>\n  <tbody>\n    <tr>\n      <th>0</th>\n      <td>Juan</td>\n      <td>Munoz</td>\n      <td>30</td>\n      <td>Bibliotecario</td>\n    </tr>\n    <tr>\n      <th>1</th>\n      <td>Alex</td>\n      <td>Martinez</td>\n      <td>31</td>\n      <td>Florista</td>\n    </tr>\n    <tr>\n      <th>2</th>\n      <td>Andres</td>\n      <td>Cruz</td>\n      <td>32</td>\n      <td>Enfermero</td>\n    </tr>\n    <tr>\n      <th>3</th>\n      <td>Edison</td>\n      <td>Viveros</td>\n      <td>33</td>\n      <td>Conserje</td>\n    </tr>\n  </tbody>\n</table>\n</div>"
     },
     "metadata": {},
     "execution_count": 8
    }
   ],
   "source": [
    "df = {\n",
    "    'Nombre':['Juan','Alex','Andres','Edison'],\n",
    "    'Apellidos':['Munoz','Martinez','Cruz','Viveros'],\n",
    "    'Edad': [30,31,32,33],\n",
    "    'Trabajo':['Bibliotecario','Florista','Enfermero','Conserje']\n",
    "}\n",
    "\n",
    "df = pd.DataFrame(df)\n",
    "\n",
    "df"
   ]
  },
  {
   "cell_type": "code",
   "execution_count": 15,
   "metadata": {},
   "outputs": [
    {
     "output_type": "execute_result",
     "data": {
      "text/plain": [
       "'res'"
      ]
     },
     "metadata": {},
     "execution_count": 15
    }
   ],
   "source": [
    "df.Nombre[2][3:]"
   ]
  }
 ]
}