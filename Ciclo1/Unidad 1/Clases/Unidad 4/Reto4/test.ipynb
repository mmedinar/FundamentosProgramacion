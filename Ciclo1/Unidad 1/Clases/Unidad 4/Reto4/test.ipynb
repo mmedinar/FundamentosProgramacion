{
 "metadata": {
  "language_info": {
   "codemirror_mode": {
    "name": "ipython",
    "version": 3
   },
   "file_extension": ".py",
   "mimetype": "text/x-python",
   "name": "python",
   "nbconvert_exporter": "python",
   "pygments_lexer": "ipython3",
   "version": "3.8.5"
  },
  "orig_nbformat": 2,
  "kernelspec": {
   "name": "python385jvsc74a57bd0b3ba2566441a7c06988d0923437866b63cedc61552a5af99d1f4fb67d367b25f",
   "display_name": "Python 3.8.5 64-bit ('Anaconda3')"
  }
 },
 "nbformat": 4,
 "nbformat_minor": 2,
 "cells": [
  {
   "cell_type": "code",
   "execution_count": 1,
   "metadata": {},
   "outputs": [],
   "source": [
    "\n",
    "\n",
    "import numpy as np\n",
    "\n",
    "# rsultados = [[9.63, 19.52, 36.48], [9.73, 19.52, 42.55]. [9.73, 22.52, 35.48]]\n",
    "corredores = {\n",
    "    'Usain Bolt': {\n",
    "        '100m': 9.63,\n",
    "        '200m': 19.52,\n",
    "        '4x100m': 36.48\n",
    "    },\n",
    "    'Tayson Gray': {\n",
    "        '100m': 9.73,\n",
    "        '200m': 19.52,\n",
    "        '4x100m': 42.55\n",
    "    },\n",
    "    'Yohan Blake': {\n",
    "        '100m': 9.73,\n",
    "        '200m': 22.52,\n",
    "        '4x100m': 35.48\n",
    "    },\n",
    "}\n"
   ]
  },
  {
   "cell_type": "code",
   "execution_count": 5,
   "metadata": {},
   "outputs": [
    {
     "output_type": "execute_result",
     "data": {
      "text/plain": [
       "{'Usain Bolt': {'100m': 9.63, '200m': 19.52, '4x100m': 36.48},\n",
       " 'Tayson Gray': {'100m': 9.73, '200m': 19.52, '4x100m': 42.55},\n",
       " 'Yohan Blake': {'100m': 9.73, '200m': 22.52, '4x100m': 35.48}}"
      ]
     },
     "metadata": {},
     "execution_count": 5
    }
   ],
   "source": [
    "corredores"
   ]
  },
  {
   "cell_type": "code",
   "execution_count": 4,
   "metadata": {},
   "outputs": [
    {
     "output_type": "execute_result",
     "data": {
      "text/plain": [
       "dict"
      ]
     },
     "metadata": {},
     "execution_count": 4
    }
   ],
   "source": [
    "type(corredores)"
   ]
  },
  {
   "cell_type": "code",
   "execution_count": 13,
   "metadata": {},
   "outputs": [
    {
     "output_type": "stream",
     "name": "stdout",
     "text": [
      "participantes ['Usain Bolt', 'Tayson Gray', 'Yohan Blake']\nUsain Bolt\nTayson Gray\nYohan Blake\n['Usain Bolt', 'Tayson Gray', 'Yohan Blake']\n[[9.63, 19.52, 36.48], [9.73, 19.52, 42.55], [9.73, 22.52, 35.48]]\n[[9.63, 19.52, 19.9], [9.73, 19.52, 19.9], [9.73, 19.9, 19.9]]\n[[ 9.63 19.52 19.9 ]\n [ 9.73 19.52 19.9 ]\n [ 9.73 19.9  19.9 ]]\n[ 9.7 19.6 19.9]\n[49.05 49.15 49.53]\nUsain Bolt\n"
     ]
    }
   ],
   "source": [
    "\n",
    "participantes = list(corredores.keys())\n",
    "resultados = []\n",
    "\n",
    "print(f\"participantes {participantes}\")\n",
    "for i in participantes:\n",
    "    print(i)\n",
    "    resultados_corredor = []\n",
    "    for x in corredores[i].values():\n",
    "        resultados_corredor.append(x)\n",
    "    \n",
    "    resultados.append(resultados_corredor)\n",
    "\n",
    "print(participantes)\n",
    "print(resultados)\n",
    "\n",
    "normalizar = []\n",
    "\n",
    "for i in resultados:\n",
    "\n",
    "    datos_normalizados = list(map(lambda valor: valor if valor <= 20 else 19.9, i))\n",
    "    normalizar.append(datos_normalizados)\n",
    "\n",
    "print(normalizar)\n",
    "\n",
    "matriz = np.array(normalizar)\n",
    "print(matriz)\n",
    "\n",
    "promedio = np.average(matriz, axis=0)\n",
    "promedio = np.around(promedio, decimals=1)\n",
    "print(promedio)\n",
    "\n",
    "t_total = np.sum(matriz, axis=1)\n",
    "print(t_total)\n",
    "\n",
    "# ganador_idx = t_total.argmin()\n",
    "# print(ganador_idx) \n",
    "\n",
    "ganador = participantes[t_total.argmin()]\n",
    "print(ganador)\n",
    "\n",
    "\n",
    "#participantes = [i for i in corredores.keys()]\n",
    "# for i in corredores.keys():\n",
    "#     participantes.append(i)\n",
    "\n",
    "#print(participantes)"
   ]
  },
  {
   "cell_type": "code",
   "execution_count": null,
   "metadata": {},
   "outputs": [],
   "source": []
  }
 ]
}