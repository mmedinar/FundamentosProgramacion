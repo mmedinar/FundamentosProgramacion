{
 "metadata": {
  "language_info": {
   "codemirror_mode": {
    "name": "ipython",
    "version": 3
   },
   "file_extension": ".py",
   "mimetype": "text/x-python",
   "name": "python",
   "nbconvert_exporter": "python",
   "pygments_lexer": "ipython3",
   "version": "3.8.5"
  },
  "orig_nbformat": 2,
  "kernelspec": {
   "name": "python385jvsc74a57bd0b3ba2566441a7c06988d0923437866b63cedc61552a5af99d1f4fb67d367b25f",
   "display_name": "Python 3.8.5 64-bit ('Anaconda3')"
  }
 },
 "nbformat": 4,
 "nbformat_minor": 2,
 "cells": [
  {
   "cell_type": "code",
   "execution_count": 164,
   "metadata": {},
   "outputs": [],
   "source": [
    "def reto_4(diccionario: dict) -> tuple:\n",
    "    \n",
    "    import numpy as np \n",
    "    \n",
    "    if type(diccionario) is not dict:\n",
    "         return (None,None,None,None,None)\n",
    "\n",
    "    if (diccionario != None and len(diccionario) > 0)  and (diccionario != None):\n",
    "\n",
    "        dict_pasantes = list(diccionario.keys())\n",
    "        resultados = []\n",
    "\n",
    "        for i in dict_pasantes:\n",
    "            calificaciones_pasante = []\n",
    "            for x in diccionario[i].values():\n",
    "                if type(x) is int:\n",
    "                    calificaciones_pasante.append(x)\n",
    "                else:\n",
    "                    return (None,None,None,None,None)\n",
    "            \n",
    "            resultados.append(calificaciones_pasante)\n",
    "\n",
    "        normalizar = []\n",
    "\n",
    "        for i in resultados:\n",
    "            datos_normalizados = list(map(lambda valor: valor if valor >= 5 else 5, i))\n",
    "            normalizar.append(datos_normalizados)\n",
    "\n",
    "        matriz = np.array(normalizar)\n",
    "        \n",
    "        promedio = np.average(matriz, axis = 0)\n",
    "        promedio = np.around(promedio, decimals = 1)\n",
    "\n",
    "        puntaje = np.sum(matriz, axis = 1)\n",
    "\n",
    "        seleccionado = dict_pasantes[puntaje.argmax()]\n",
    "\n",
    "        tupla = tuple()\n",
    "        tupla = (normalizar, matriz, promedio, puntaje, seleccionado)\n",
    "\n",
    "    else:\n",
    "\n",
    "        tupla = (None,None,None,None,None)\n",
    "\n",
    "    return tupla\n",
    "\n"
   ]
  },
  {
   "cell_type": "code",
   "execution_count": 170,
   "metadata": {},
   "outputs": [
    {
     "output_type": "stream",
     "name": "stdout",
     "text": [
      "Resultados: [[8, 7, 9], [5, 7, 9], [6, 7, 9]]\nMatriz: \n[[8 7 9]\n [5 7 9]\n [6 7 9]]\nPromedio: [6.3 7.  9. ]\nPuntaje: [24 21 22]\nSeleccionado: John\n"
     ]
    }
   ],
   "source": [
    "pasantes = {\n",
    "    'John': {'prueba 1': 8, 'prueba 2': 7, 'prueba 3': 9}, \n",
    "    'Luis': {'prueba 1': 5, 'prueba 2': 7, 'prueba 3': 9}, \n",
    "    'Ana': {'prueba 1': 6, 'prueba 2': 7, 'prueba 3': 9}\n",
    "    }\n",
    "a,b,c, d, e = reto_4(pasantes)\n",
    "a = f\"Resultados: {a}\"\n",
    "b = f\"Matriz: \\n{b}\"\n",
    "c = f\"Promedio: {c}\"\n",
    "d = f\"Puntaje: {d}\"\n",
    "e = f\"Seleccionado: {e}\"\n",
    "print(a,b,c,d,e,sep=\"\\n\")\n",
    "\n"
   ]
  },
  {
   "cell_type": "code",
   "execution_count": 154,
   "metadata": {},
   "outputs": [
    {
     "output_type": "stream",
     "name": "stdout",
     "text": [
      "Resultados: [[8, 7, 9], [8, 7, 9], [6, 7, 9]]\nMatriz: \n[[8 7 9]\n [8 7 9]\n [6 7 9]]\nPromedio: [7.3 7.  9. ]\nPuntajes: [24 24 22]\nSeleccionado: Abril\n"
     ]
    }
   ],
   "source": [
    "pasantes = {'Abril': {'prueba 1': 8, 'prueba 2': 7, 'prueba 3': 9}, 'Pedro': {\n",
    "'prueba 1': 8, 'prueba 2': 7, 'prueba 3': 9}, 'Rafael': {'prueba 1': 6, 'prueba 2': 7, 'prueba 3': 9}}\n",
    "a, b, c, d, e = reto_4(pasantes)\n",
    "a = f\"Resultados: {a}\"\n",
    "b = f\"Matriz: \\n{b}\"\n",
    "c = f\"Promedio: {c}\"\n",
    "d = f\"Puntajes: {d}\"\n",
    "e = f\"Seleccionado: {e}\"\n",
    "print(a, b, c, d, e, sep='\\n')"
   ]
  },
  {
   "cell_type": "code",
   "execution_count": 155,
   "metadata": {},
   "outputs": [
    {
     "output_type": "stream",
     "name": "stdout",
     "text": [
      "Resultados: [[8, 7, 9]]\nMatriz: \n[[8 7 9]]\nPromedio: [8. 7. 9.]\nPuntajes: [24]\nSeleccionado: Jose\n"
     ]
    }
   ],
   "source": [
    "pasantes = {'Jose': {'prueba 1': 8, 'prueba 2': 7, 'prueba 3': 9}}\n",
    "a, b, c, d, e = reto_4(pasantes)\n",
    "a = f\"Resultados: {a}\"\n",
    "b = f\"Matriz: \\n{b}\"\n",
    "c = f\"Promedio: {c}\"\n",
    "d = f\"Puntajes: {d}\"\n",
    "e = f\"Seleccionado: {e}\"\n",
    "print(a, b, c, d, e, sep='\\n')"
   ]
  },
  {
   "cell_type": "code",
   "execution_count": 160,
   "metadata": {},
   "outputs": [
    {
     "output_type": "stream",
     "name": "stdout",
     "text": [
      "Resultados: None\nMatriz: \nNone\nPromedio: None\nPuntajes: None\nSeleccionado: None\n"
     ]
    }
   ],
   "source": [
    "pasantes = ''\n",
    "a, b, c, d, e = reto_4(pasantes)\n",
    "a = f\"Resultados: {a}\"\n",
    "b = f\"Matriz: \\n{b}\"\n",
    "c = f\"Promedio: {c}\"\n",
    "d = f\"Puntajes: {d}\"\n",
    "e = f\"Seleccionado: {e}\"\n",
    "print(a, b, c, d, e, sep='\\n')"
   ]
  },
  {
   "cell_type": "code",
   "execution_count": null,
   "metadata": {},
   "outputs": [],
   "source": []
  }
 ]
}